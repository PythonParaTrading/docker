{
 "cells": [
  {
   "cell_type": "code",
   "execution_count": 1,
   "id": "44fe1d7b-be39-44e5-a7e3-30d6f194ffe2",
   "metadata": {
    "tags": []
   },
   "outputs": [],
   "source": []
  },
  {
   "cell_type": "code",
   "execution_count": 3,
   "id": "e51047b3-92c2-48c0-bd6b-4bbd120c5fe1",
   "metadata": {
    "tags": []
   },
   "outputs": [
    {
     "ename": "ModuleNotFoundError",
     "evalue": "No module named 'logbook'",
     "output_type": "error",
     "traceback": [
      "\u001b[0;31m---------------------------------------------------------------------------\u001b[0m",
      "\u001b[0;31mModuleNotFoundError\u001b[0m                       Traceback (most recent call last)",
      "Cell \u001b[0;32mIn[3], line 6\u001b[0m\n\u001b[1;32m      3\u001b[0m \u001b[38;5;28;01mimport\u001b[39;00m \u001b[38;5;21;01mpandas\u001b[39;00m \u001b[38;5;28;01mas\u001b[39;00m \u001b[38;5;21;01mpd\u001b[39;00m\n\u001b[1;32m      4\u001b[0m \u001b[38;5;28;01mfrom\u001b[39;00m \u001b[38;5;21;01mpytz\u001b[39;00m \u001b[38;5;28;01mimport\u001b[39;00m UTC\n\u001b[0;32m----> 6\u001b[0m \u001b[38;5;28;01mfrom\u001b[39;00m \u001b[38;5;21;01mlogbook\u001b[39;00m \u001b[38;5;28;01mimport\u001b[39;00m (NestedSetup, NullHandler, Logger, StreamHandler, StderrHandler, \n\u001b[1;32m      7\u001b[0m                      INFO, WARNING, DEBUG, ERROR)\n\u001b[1;32m      9\u001b[0m \u001b[38;5;28;01mfrom\u001b[39;00m \u001b[38;5;21;01mzipline\u001b[39;00m \u001b[38;5;28;01mimport\u001b[39;00m run_algorithm\n\u001b[1;32m     10\u001b[0m \u001b[38;5;28;01mfrom\u001b[39;00m \u001b[38;5;21;01mzipline\u001b[39;00m\u001b[38;5;21;01m.\u001b[39;00m\u001b[38;5;21;01mapi\u001b[39;00m \u001b[38;5;28;01mimport\u001b[39;00m (attach_pipeline, \n\u001b[1;32m     11\u001b[0m                          date_rules, \n\u001b[1;32m     12\u001b[0m                          time_rules,\n\u001b[0;32m   (...)\u001b[0m\n\u001b[1;32m     20\u001b[0m                          set_commission, \n\u001b[1;32m     21\u001b[0m                          set_slippage)\n",
      "\u001b[0;31mModuleNotFoundError\u001b[0m: No module named 'logbook'"
     ]
    }
   ],
   "source": [
    "import sys\n",
    "import numpy as np\n",
    "import pandas as pd\n",
    "from pytz import UTC\n",
    "\n",
    "from logbook import (NestedSetup, NullHandler, Logger, StreamHandler, StderrHandler, \n",
    "                     INFO, WARNING, DEBUG, ERROR)\n",
    "\n",
    "from zipline import run_algorithm\n",
    "from zipline.api import (attach_pipeline, \n",
    "                         date_rules, \n",
    "                         time_rules,\n",
    "                         get_datetime,\n",
    "                         order_target_percent,\n",
    "                         pipeline_output, \n",
    "                         record, \n",
    "                         schedule_function, \n",
    "                         get_open_orders, \n",
    "                         calendars,\n",
    "                         set_commission, \n",
    "                         set_slippage)\n",
    "from zipline.finance import commission, slippage\n",
    "from zipline.pipeline import Pipeline, CustomFactor\n",
    "from zipline.pipeline.factors import Returns, AverageDollarVolume\n",
    "\n",
    "from pyfolio.utils import extract_rets_pos_txn_from_zipline\n",
    "\n",
    "import matplotlib.pyplot as plt\n",
    "import seaborn as sns\n",
    "import warnings\n",
    "\n",
    "warnings.filterwarnings('ignore')\n",
    "sns.set_style('whitegrid')"
   ]
  },
  {
   "cell_type": "code",
   "execution_count": null,
   "id": "20f5303a-0799-4744-9f57-bbaa02920ee0",
   "metadata": {},
   "outputs": [],
   "source": [
    "# setup stdout logging\n",
    "format_string = '[{record.time: %H:%M:%S.%f}]: {record.level_name}: {record.message}'\n",
    "zipline_logging = NestedSetup([NullHandler(level=DEBUG),\n",
    "                               StreamHandler(sys.stdout, format_string=format_string, level=INFO),\n",
    "                               StreamHandler(sys.stderr, level=ERROR)])\n",
    "zipline_logging.push_application()\n",
    "log = Logger('Algorithm')"
   ]
  }
 ],
 "metadata": {
  "kernelspec": {
   "display_name": "Python 3 (ipykernel)",
   "language": "python",
   "name": "python3"
  },
  "language_info": {
   "codemirror_mode": {
    "name": "ipython",
    "version": 3
   },
   "file_extension": ".py",
   "mimetype": "text/x-python",
   "name": "python",
   "nbconvert_exporter": "python",
   "pygments_lexer": "ipython3",
   "version": "3.10.10"
  }
 },
 "nbformat": 4,
 "nbformat_minor": 5
}
