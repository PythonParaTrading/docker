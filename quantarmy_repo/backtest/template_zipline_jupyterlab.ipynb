{
 "cells": [
  {
   "cell_type": "code",
   "execution_count": 1,
   "id": "44fe1d7b-be39-44e5-a7e3-30d6f194ffe2",
   "metadata": {
    "tags": []
   },
   "outputs": [],
   "source": []
  },
  {
   "cell_type": "code",
   "execution_count": 42,
   "id": "e51047b3-92c2-48c0-bd6b-4bbd120c5fe1",
   "metadata": {
    "tags": []
   },
   "outputs": [],
   "source": [
    "import sys\n",
    "import numpy as np\n",
    "import pandas as pd\n",
    "from pytz import UTC\n",
    "\n",
    "from logbook import (NestedSetup, NullHandler, Logger, StreamHandler, StderrHandler, \n",
    "                     INFO, WARNING, DEBUG, ERROR)\n",
    "\n",
    "from zipline import run_algorithm\n",
    "from zipline.api import (attach_pipeline, \n",
    "                         date_rules, \n",
    "                         time_rules,\n",
    "                         get_datetime,\n",
    "                         order_target_percent,\n",
    "                         pipeline_output, \n",
    "                         record, \n",
    "                         schedule_function, \n",
    "                         get_open_orders, \n",
    "                         calendars,\n",
    "                         set_commission, \n",
    "                         set_slippage)\n",
    "from zipline.finance import commission, slippage\n",
    "from zipline.pipeline import Pipeline, CustomFactor\n",
    "from zipline.pipeline.factors import Returns, AverageDollarVolume\n",
    "\n",
    "from pyfolio.utils import extract_rets_pos_txn_from_zipline\n",
    "\n",
    "import matplotlib.pyplot as plt\n",
    "import seaborn as sns\n",
    "import warnings\n",
    "\n",
    "warnings.filterwarnings('ignore')\n",
    "sns.set_style('whitegrid')"
   ]
  },
  {
   "cell_type": "code",
   "execution_count": 43,
   "id": "20f5303a-0799-4744-9f57-bbaa02920ee0",
   "metadata": {
    "tags": []
   },
   "outputs": [],
   "source": [
    "# setup stdout logging\n",
    "format_string = '[{record.time: %H:%M:%S.%f}]: {record.level_name}: {record.message}'\n",
    "zipline_logging = NestedSetup([NullHandler(level=DEBUG),\n",
    "                               StreamHandler(sys.stdout, format_string=format_string, level=INFO),\n",
    "                               StreamHandler(sys.stderr, level=ERROR)])\n",
    "zipline_logging.push_application()\n",
    "log = Logger('Algorithm')"
   ]
  },
  {
   "cell_type": "code",
   "execution_count": 44,
   "id": "2abb264a-f305-4645-8e7b-629892834142",
   "metadata": {
    "tags": []
   },
   "outputs": [],
   "source": [
    "# Settings\n",
    "MONTH = 21\n",
    "YEAR = 12 * MONTH\n",
    "N_LONGS = 1\n",
    "N_SHORTS = 0\n",
    "VOL_SCREEN = 500\n",
    "start = pd.Timestamp('2015-01-01')\n",
    "end = pd.Timestamp('2017-01-01' )\n",
    "capital_base = 1e7"
   ]
  },
  {
   "cell_type": "code",
   "execution_count": 45,
   "id": "75a237de-c4f6-41cd-91a5-0d566c2b8e83",
   "metadata": {
    "tags": []
   },
   "outputs": [],
   "source": [
    "class MeanReversion(CustomFactor):\n",
    "    \"\"\"Compute ratio of latest monthly return to 12m average,\n",
    "       normalized by std dev of monthly returns\"\"\"\n",
    "    inputs = [Returns(window_length=MONTH)]\n",
    "    window_length = YEAR\n",
    "\n",
    "    def compute(self, today, assets, out, monthly_returns):\n",
    "        df = pd.DataFrame(monthly_returns)\n",
    "        out[:] = df.iloc[-1].sub(df.mean()).div(df.std())"
   ]
  },
  {
   "cell_type": "code",
   "execution_count": 46,
   "id": "d18d7348-c57d-4321-b920-6bb09644816c",
   "metadata": {
    "tags": []
   },
   "outputs": [],
   "source": [
    "class MeanReversion(CustomFactor):\n",
    "    \"\"\"Compute ratio of latest monthly return to 12m average,\n",
    "       normalized by std dev of monthly returns\"\"\"\n",
    "    inputs = [Returns(window_length=MONTH)]\n",
    "    window_length = YEAR\n",
    "\n",
    "    def compute(self, today, assets, out, monthly_returns):\n",
    "        df = pd.DataFrame(monthly_returns)\n",
    "        out[:] = df.iloc[-1].sub(df.mean()).div(df.std())"
   ]
  },
  {
   "cell_type": "code",
   "execution_count": 47,
   "id": "c4056d92-3108-48b8-a8d5-2713040823a7",
   "metadata": {
    "tags": []
   },
   "outputs": [],
   "source": [
    "def compute_factors():\n",
    "    \"\"\"Create factor pipeline incl. mean reversion,\n",
    "        filtered by 30d Dollar Volume; capture factor ranks\"\"\"\n",
    "    mean_reversion = MeanReversion()\n",
    "    dollar_volume = AverageDollarVolume(window_length=30)\n",
    "    return Pipeline(columns={'longs'  : mean_reversion.bottom(N_LONGS),\n",
    "                             'shorts' : mean_reversion.top(N_SHORTS),\n",
    "                             'ranking': mean_reversion.rank(ascending=False)},\n",
    "                    screen=dollar_volume.top(VOL_SCREEN))"
   ]
  },
  {
   "cell_type": "code",
   "execution_count": 48,
   "id": "1f2f516a-e8cd-4f5f-b848-a4ec7c084786",
   "metadata": {
    "tags": []
   },
   "outputs": [],
   "source": [
    "def before_trading_start(context, data):\n",
    "    \"\"\"Run factor pipeline\"\"\"\n",
    "    context.factor_data = pipeline_output('factor_pipeline')\n",
    "    record(factor_data=context.factor_data.ranking)\n",
    "    assets = context.factor_data.index\n",
    "    record(prices=data.current(assets, 'price'))"
   ]
  },
  {
   "cell_type": "code",
   "execution_count": 50,
   "id": "b5621fc2-942d-4473-9746-d8d23dd2f482",
   "metadata": {
    "tags": []
   },
   "outputs": [],
   "source": [
    "def rebalance(context, data):\n",
    "    \"\"\"Compute long, short and obsolete holdings; place trade orders\"\"\"\n",
    "    factor_data = context.factor_data\n",
    "    assets = factor_data.index\n",
    "    \n",
    "    longs = assets[factor_data.longs]\n",
    "    shorts = assets[factor_data.shorts]\n",
    "    divest = context.portfolio.positions.keys() - longs.union(shorts)\n",
    "    log.info('{} | Longs: {:2.0f} | Shorts: {:2.0f} | {:,.2f}'.format(get_datetime().date(),\n",
    "                                                                     len(longs), \n",
    "                                                                     len(shorts),\n",
    "                                                                     context.portfolio.portfolio_value))\n",
    "\n",
    "    exec_trades(data, assets=divest, target_percent=0)\n",
    "    exec_trades(data, assets=longs, target_percent=1 / N_LONGS if N_LONGS else 0)\n",
    "    exec_trades(data, assets=shorts, target_percent=-1 / N_SHORTS if N_SHORTS else 0)"
   ]
  },
  {
   "cell_type": "code",
   "execution_count": 51,
   "id": "d866a891-98b4-41c7-98ad-08ecf1bc6064",
   "metadata": {
    "tags": []
   },
   "outputs": [],
   "source": [
    "def exec_trades(data, assets, target_percent):\n",
    "    \"\"\"Place orders for assets using target portfolio percentage\"\"\"\n",
    "    for asset in assets:\n",
    "        if data.can_trade(asset) and not get_open_orders(asset):\n",
    "            order_target_percent(asset, target_percent)"
   ]
  },
  {
   "cell_type": "code",
   "execution_count": 52,
   "id": "e3a49fee-1e72-48b5-ae10-7bfecaa8ab8b",
   "metadata": {
    "tags": []
   },
   "outputs": [],
   "source": [
    "def initialize(context):\n",
    "    \"\"\"Setup: register pipeline, schedule rebalancing,\n",
    "        and set trading params\"\"\"\n",
    "    attach_pipeline(compute_factors(), 'factor_pipeline')\n",
    "    schedule_function(rebalance,\n",
    "                      date_rules.month_start(),\n",
    "                      time_rules.market_open(),\n",
    "                      calendar=calendars.US_EQUITIES)\n",
    "\n",
    "    set_commission(us_equities=commission.PerShare(cost=0.00075, \n",
    "                                                   min_trade_cost=.01))\n",
    "    set_slippage(us_equities=slippage.VolumeShareSlippage(volume_limit=0.0025, \n",
    "                                                          price_impact=0.01))"
   ]
  },
  {
   "cell_type": "code",
   "execution_count": 53,
   "id": "9a54dc35-dbcd-4635-bc9f-115b78aa7607",
   "metadata": {
    "tags": []
   },
   "outputs": [
    {
     "name": "stdout",
     "output_type": "stream",
     "text": [
      "[ 19:08:09.249404]: INFO: 2015-01-02 | Longs:  1 | Shorts:  0 | 10,000,000.00\n",
      "[ 19:08:09.352016]: INFO: 2015-02-02 | Longs:  1 | Shorts:  0 | 8,984,673.44\n",
      "[ 19:08:09.378142]: INFO: 2015-03-02 | Longs:  1 | Shorts:  0 | 9,549,349.12\n",
      "[ 19:08:09.408686]: INFO: 2015-04-01 | Longs:  1 | Shorts:  0 | 8,974,148.19\n",
      "[ 19:08:09.437794]: INFO: 2015-05-01 | Longs:  1 | Shorts:  0 | 11,258,101.72\n",
      "[ 19:08:09.465178]: INFO: 2015-06-01 | Longs:  1 | Shorts:  0 | 11,383,592.98\n",
      "[ 19:08:09.495813]: INFO: 2015-07-01 | Longs:  1 | Shorts:  0 | 11,073,778.92\n",
      "[ 19:08:09.586493]: INFO: 2015-08-03 | Longs:  1 | Shorts:  0 | 11,209,629.69\n",
      "[ 19:08:09.616704]: INFO: 2015-09-01 | Longs:  1 | Shorts:  0 | 10,714,648.67\n",
      "[ 19:08:09.651171]: INFO: 2015-10-01 | Longs:  1 | Shorts:  0 | 12,371,700.44\n",
      "[ 19:08:09.682598]: INFO: 2015-11-02 | Longs:  1 | Shorts:  0 | 14,914,834.18\n",
      "[ 19:08:09.710571]: INFO: 2015-12-01 | Longs:  1 | Shorts:  0 | 16,005,412.80\n",
      "[ 19:08:09.844151]: INFO: 2016-01-04 | Longs:  1 | Shorts:  0 | 14,753,495.21\n",
      "[ 19:08:09.927830]: INFO: 2016-02-01 | Longs:  1 | Shorts:  0 | 13,350,552.18\n",
      "[ 19:08:09.955845]: INFO: 2016-03-01 | Longs:  1 | Shorts:  0 | 13,631,797.07\n",
      "[ 19:08:09.986061]: INFO: 2016-04-01 | Longs:  1 | Shorts:  0 | 15,297,565.25\n",
      "[ 19:08:10.014334]: INFO: 2016-05-02 | Longs:  1 | Shorts:  0 | 17,166,077.02\n",
      "[ 19:08:10.043209]: INFO: 2016-06-01 | Longs:  1 | Shorts:  0 | 17,742,907.94\n",
      "[ 19:08:10.075435]: INFO: 2016-07-01 | Longs:  1 | Shorts:  0 | 16,925,414.19\n",
      "[ 19:08:10.157596]: INFO: 2016-08-01 | Longs:  1 | Shorts:  0 | 18,389,794.12\n",
      "[ 19:08:10.189220]: INFO: 2016-09-01 | Longs:  1 | Shorts:  0 | 18,527,550.73\n",
      "[ 19:08:10.219814]: INFO: 2016-10-03 | Longs:  1 | Shorts:  0 | 20,183,874.30\n",
      "[ 19:08:10.250751]: INFO: 2016-11-01 | Longs:  1 | Shorts:  0 | 19,751,692.65\n",
      "[ 19:08:10.280794]: INFO: 2016-12-01 | Longs:  1 | Shorts:  0 | 19,185,480.19\n"
     ]
    }
   ],
   "source": [
    "backtest = run_algorithm(start=start,\n",
    "                         end=end,\n",
    "                         initialize=initialize,\n",
    "                         before_trading_start=before_trading_start,\n",
    "                         bundle='qa_datalake',\n",
    "                         capital_base=capital_base)"
   ]
  },
  {
   "cell_type": "code",
   "execution_count": null,
   "id": "3ebc68ea-86f4-45fc-afa3-e47a5a50541c",
   "metadata": {},
   "outputs": [],
   "source": []
  },
  {
   "cell_type": "code",
   "execution_count": null,
   "id": "f5ad8f9c-7c4b-4821-a026-df8347c3ad1e",
   "metadata": {},
   "outputs": [],
   "source": []
  },
  {
   "cell_type": "code",
   "execution_count": null,
   "id": "8c577bd4-3e42-46f1-94b3-2000711e9364",
   "metadata": {},
   "outputs": [],
   "source": []
  },
  {
   "cell_type": "code",
   "execution_count": null,
   "id": "b837b577-5ab7-49d1-8564-0adaf51998e1",
   "metadata": {},
   "outputs": [],
   "source": []
  }
 ],
 "metadata": {
  "kernelspec": {
   "display_name": "Python 3 (ipykernel)",
   "language": "python",
   "name": "python3"
  },
  "language_info": {
   "codemirror_mode": {
    "name": "ipython",
    "version": 3
   },
   "file_extension": ".py",
   "mimetype": "text/x-python",
   "name": "python",
   "nbconvert_exporter": "python",
   "pygments_lexer": "ipython3",
   "version": "3.10.10"
  }
 },
 "nbformat": 4,
 "nbformat_minor": 5
}
