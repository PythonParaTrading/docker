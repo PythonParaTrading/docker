{
 "cells": [
  {
   "cell_type": "code",
   "execution_count": 1,
   "id": "8ddac784-2b0d-4c67-847f-53850f347706",
   "metadata": {},
   "outputs": [
    {
     "name": "stdout",
     "output_type": "stream",
     "text": [
      "/opt/conda/lib/python3.10/site-packages/exchange_calendars/exchange_calendar.py:2347: FutureWarning: 'T' is deprecated and will be removed in a future version. Please use 'min' instead of 'T'.\n",
      "  align: pd.Timedelta | str = pd.Timedelta(1, \"T\"),\n",
      "[2024-01-22T20:48:52+0000-INFO][zipline.data.bundles.core]\n",
      " Ingesting quandl\n",
      "Traceback (most recent call last):\n",
      "  File \"/opt/conda/bin/zipline\", line 8, in <module>\n",
      "    sys.exit(main())\n",
      "  File \"/opt/conda/lib/python3.10/site-packages/click/core.py\", line 1157, in __call__\n",
      "    return self.main(*args, **kwargs)\n",
      "  File \"/opt/conda/lib/python3.10/site-packages/click/core.py\", line 1078, in main\n",
      "    rv = self.invoke(ctx)\n",
      "  File \"/opt/conda/lib/python3.10/site-packages/click/core.py\", line 1688, in invoke\n",
      "    return _process_result(sub_ctx.command.invoke(sub_ctx))\n",
      "  File \"/opt/conda/lib/python3.10/site-packages/click/core.py\", line 1434, in invoke\n",
      "    return ctx.invoke(self.callback, **ctx.params)\n",
      "  File \"/opt/conda/lib/python3.10/site-packages/click/core.py\", line 783, in invoke\n",
      "    return __callback(*args, **kwargs)\n",
      "  File \"/opt/conda/lib/python3.10/site-packages/zipline/__main__.py\", line 397, in ingest\n",
      "    bundles_module.ingest(\n",
      "  File \"/opt/conda/lib/python3.10/site-packages/zipline/data/bundles/core.py\", line 445, in ingest\n",
      "    bundle.ingest(\n",
      "  File \"/opt/conda/lib/python3.10/site-packages/zipline/data/bundles/quandl.py\", line 180, in quandl_bundle\n",
      "    raise ValueError(\n",
      "ValueError: Please set your QUANDL_API_KEY environment variable and retry.\n"
     ]
    }
   ],
   "source": [
    "!zipline ingest"
   ]
  },
  {
   "cell_type": "code",
   "execution_count": null,
   "id": "2e72271c-e563-4659-806e-b9eec29db7c4",
   "metadata": {},
   "outputs": [],
   "source": []
  }
 ],
 "metadata": {
  "kernelspec": {
   "display_name": "Python 3 (ipykernel)",
   "language": "python",
   "name": "python3"
  },
  "language_info": {
   "codemirror_mode": {
    "name": "ipython",
    "version": 3
   },
   "file_extension": ".py",
   "mimetype": "text/x-python",
   "name": "python",
   "nbconvert_exporter": "python",
   "pygments_lexer": "ipython3",
   "version": "3.10.10"
  }
 },
 "nbformat": 4,
 "nbformat_minor": 5
}
