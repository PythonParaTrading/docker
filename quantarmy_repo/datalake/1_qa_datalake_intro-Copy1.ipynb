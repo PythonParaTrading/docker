{
 "cells": [
  {
   "cell_type": "markdown",
   "id": "2319e292-a611-4d98-9915-bb4b0a97b4b6",
   "metadata": {
    "tags": []
   },
   "source": [
    "# QUANTARMY QUANTSTACK DOCS\n",
    "## USING DATALAKES IN QASTACK\n",
    "QASTACK esta construido sobre arcticdb. \n",
    "Ejemplos basicos de interaccion.\n",
    "\n",
    " - Conexion al Datalake mediante .env\n",
    " - Montar puntero\n",
    " - Acceso a contenidos del dalake (listado, versiones,acceso)\n",
    " \n",
    " #### --- public contact :jcx@quantarmy.com - quantarmy.com | pythonparatrading.com\n",
    " #### --- secure contact : 05903760a1ef9ed808dd69efe4b4d45b62e79215c1f5c409f3d7104662d527245c (session)"
   ]
  },
  {
   "cell_type": "code",
   "execution_count": 2,
   "id": "b4983f6d-ae63-4721-9b8c-5d6712774c0c",
   "metadata": {
    "tags": []
   },
   "outputs": [],
   "source": [
    "from arcticdb import Arctic\n",
    "import pandas as pd\n",
    "from dotenv import load_dotenv\n",
    "from os import getenv"
   ]
  },
  {
   "cell_type": "code",
   "execution_count": 3,
   "id": "c2b05ea8-7eff-4b05-b152-1d4bbb610c3b",
   "metadata": {
    "tags": []
   },
   "outputs": [],
   "source": [
    "dotenv_path = '/root/.env'\n",
    "load_dotenv(dotenv_path)\n",
    "\n",
    "endpoint = getenv(\"ENDPOINT\")\n",
    "db = getenv(\"DB\")\n",
    "access_key = getenv(\"ACCESS_KEY\")\n",
    "secret_key = getenv(\"SECRET_KEY\")\n",
    "\n",
    "ac = Arctic(f's3s://{endpoint}:{db}?access={access_key}&secret={secret_key}')"
   ]
  },
  {
   "cell_type": "markdown",
   "id": "afd0535f-5b3e-425e-b480-31b524f78478",
   "metadata": {},
   "source": [
    "Para listar todos los simbolos de una base de datos"
   ]
  },
  {
   "cell_type": "code",
   "execution_count": 7,
   "id": "5ae4b96e-a32a-4ad5-8fe0-17e00f08efa4",
   "metadata": {
    "tags": []
   },
   "outputs": [
    {
     "data": {
      "text/plain": [
       "['K.US',\n",
       " 'MTD.US',\n",
       " 'VICI.US',\n",
       " 'WAB.US',\n",
       " 'DHI.US',\n",
       " 'ICE.US',\n",
       " 'INVH.US',\n",
       " 'ADBE.US',\n",
       " 'ALLE.US',\n",
       " 'CF.US']"
      ]
     },
     "execution_count": 7,
     "metadata": {},
     "output_type": "execute_result"
    }
   ],
   "source": [
    "symbols = ac.get_library('us.stocks.news.stable').list_symbols()\n",
    "symbols[20:30]"
   ]
  },
  {
   "cell_type": "markdown",
   "id": "b18ffaa9-01a5-41a5-b67c-c7270e285c5a",
   "metadata": {},
   "source": [
    "Para contar cuantos simbolos hay dentro de una base de datos"
   ]
  },
  {
   "cell_type": "code",
   "execution_count": 18,
   "id": "a1b1d3a5-4bd5-4c6d-9256-777f884d3118",
   "metadata": {
    "tags": []
   },
   "outputs": [
    {
     "data": {
      "text/plain": [
       "503"
      ]
     },
     "execution_count": 18,
     "metadata": {},
     "output_type": "execute_result"
    }
   ],
   "source": [
    "len(ac.get_library('us.stocks.news.stable').list_symbols())"
   ]
  },
  {
   "cell_type": "markdown",
   "id": "a70339f2-191c-46ca-aae6-543eb3a15561",
   "metadata": {
    "tags": []
   },
   "source": [
    "#### Se puede asignar un puntero y reutilizarlo"
   ]
  },
  {
   "cell_type": "code",
   "execution_count": 19,
   "id": "8b0e00ef-0fa9-4e3e-a8fd-88ca1a62557f",
   "metadata": {
    "tags": []
   },
   "outputs": [
    {
     "data": {
      "text/plain": [
       "503"
      ]
     },
     "execution_count": 19,
     "metadata": {},
     "output_type": "execute_result"
    }
   ],
   "source": [
    "stocks_news = ac.get_library('us.stocks.news.stable')\n",
    "len(stocks_news.list_symbols())"
   ]
  },
  {
   "cell_type": "code",
   "execution_count": 20,
   "id": "dd69d22f-8648-49b0-bf3f-d23f06a31284",
   "metadata": {
    "tags": []
   },
   "outputs": [
    {
     "data": {
      "text/html": [
       "<div>\n",
       "<style scoped>\n",
       "    .dataframe tbody tr th:only-of-type {\n",
       "        vertical-align: middle;\n",
       "    }\n",
       "\n",
       "    .dataframe tbody tr th {\n",
       "        vertical-align: top;\n",
       "    }\n",
       "\n",
       "    .dataframe thead th {\n",
       "        text-align: right;\n",
       "    }\n",
       "</style>\n",
       "<table border=\"1\" class=\"dataframe\">\n",
       "  <thead>\n",
       "    <tr style=\"text-align: right;\">\n",
       "      <th></th>\n",
       "      <th>title</th>\n",
       "      <th>content</th>\n",
       "      <th>link</th>\n",
       "      <th>tags</th>\n",
       "      <th>tag</th>\n",
       "      <th>polarity</th>\n",
       "      <th>neg</th>\n",
       "      <th>neu</th>\n",
       "      <th>pos</th>\n",
       "    </tr>\n",
       "    <tr>\n",
       "      <th>date</th>\n",
       "      <th></th>\n",
       "      <th></th>\n",
       "      <th></th>\n",
       "      <th></th>\n",
       "      <th></th>\n",
       "      <th></th>\n",
       "      <th></th>\n",
       "      <th></th>\n",
       "      <th></th>\n",
       "    </tr>\n",
       "  </thead>\n",
       "  <tbody>\n",
       "    <tr>\n",
       "      <th>2023-03-17T13:05:00+00:00</th>\n",
       "      <td>3 Banks That Played Interest Rates Right and A...</td>\n",
       "      <td>SVB Financial and Silvergate did not position ...</td>\n",
       "      <td>https://finance.yahoo.com/m/e84f4c66-90da-38ba...</td>\n",
       "      <td>['BALANCE SHEETS', 'BANK FAILURES', 'BOND PORT...</td>\n",
       "      <td>balance sheet</td>\n",
       "      <td>0.382</td>\n",
       "      <td>0.09</td>\n",
       "      <td>0.733</td>\n",
       "      <td>0.177</td>\n",
       "    </tr>\n",
       "    <tr>\n",
       "      <th>2022-11-08T19:27:52+00:00</th>\n",
       "      <td>10 Best Blue Chip Stocks With Strong Balance S...</td>\n",
       "      <td>In this article, we will take a look at 10 bes...</td>\n",
       "      <td>https://finance.yahoo.com/news/10-best-blue-ch...</td>\n",
       "      <td>['BALANCE SHEET', 'BALANCE SHEETS', 'BLACKROCK...</td>\n",
       "      <td>balance sheet</td>\n",
       "      <td>1.0</td>\n",
       "      <td>0.029</td>\n",
       "      <td>0.798</td>\n",
       "      <td>0.173</td>\n",
       "    </tr>\n",
       "    <tr>\n",
       "      <th>2022-09-16T04:07:30+00:00</th>\n",
       "      <td>U.S. SEC's crypto guidelines push up costs for...</td>\n",
       "      <td>By Hannah Lang and Michelle Price\\n\\nWASHINGTO...</td>\n",
       "      <td>https://finance.yahoo.com/news/u-secs-crypto-g...</td>\n",
       "      <td>['BALANCE SHEET', 'BANK REGULATORS', 'BNY MELL...</td>\n",
       "      <td>balance sheet</td>\n",
       "      <td>0.94</td>\n",
       "      <td>0.033</td>\n",
       "      <td>0.913</td>\n",
       "      <td>0.055</td>\n",
       "    </tr>\n",
       "    <tr>\n",
       "      <th>2022-09-16T04:01:00+00:00</th>\n",
       "      <td>FOCUS-U.S. SEC's crypto guidelines push up cos...</td>\n",
       "      <td>By Hannah Lang and Michelle Price\\n\\nWASHINGTO...</td>\n",
       "      <td>https://finance.yahoo.com/news/focus-u-secs-cr...</td>\n",
       "      <td>['BALANCE SHEET', 'BANK REGULATORS', 'BNY MELL...</td>\n",
       "      <td>balance sheet</td>\n",
       "      <td>0.94</td>\n",
       "      <td>0.033</td>\n",
       "      <td>0.913</td>\n",
       "      <td>0.055</td>\n",
       "    </tr>\n",
       "    <tr>\n",
       "      <th>2022-07-12T10:30:00+00:00</th>\n",
       "      <td>Does JPMorgan Chase Still Have a Fortress Bala...</td>\n",
       "      <td>JPMorgan Chase (NYSE: JPM), the largest bank i...</td>\n",
       "      <td>https://finance.yahoo.com/m/b203e130-e125-3c11...</td>\n",
       "      <td>['BALANCE SHEET', 'JPMORGAN CHASE']</td>\n",
       "      <td>balance sheet</td>\n",
       "      <td>-0.211</td>\n",
       "      <td>0.061</td>\n",
       "      <td>0.9</td>\n",
       "      <td>0.039</td>\n",
       "    </tr>\n",
       "    <tr>\n",
       "      <th>...</th>\n",
       "      <td>...</td>\n",
       "      <td>...</td>\n",
       "      <td>...</td>\n",
       "      <td>...</td>\n",
       "      <td>...</td>\n",
       "      <td>...</td>\n",
       "      <td>...</td>\n",
       "      <td>...</td>\n",
       "      <td>...</td>\n",
       "    </tr>\n",
       "    <tr>\n",
       "      <th>2022-08-30T21:45:09+00:00</th>\n",
       "      <td>JPMorgan Chase &amp;amp; Co. (JPM) Gains As Market...</td>\n",
       "      <td>JPMorgan Chase &amp; Co. (JPM) closed at $114.41 i...</td>\n",
       "      <td>https://finance.yahoo.com/news/jpmorgan-chase-...</td>\n",
       "      <td>['ESTIMATE REVISIONS', 'JPMORGAN CHASE &amp; CO', ...</td>\n",
       "      <td>zacks rank</td>\n",
       "      <td>0.987</td>\n",
       "      <td>0.018</td>\n",
       "      <td>0.898</td>\n",
       "      <td>0.084</td>\n",
       "    </tr>\n",
       "    <tr>\n",
       "      <th>2022-08-24T21:45:09+00:00</th>\n",
       "      <td>JPMorgan Chase &amp;amp; Co. (JPM) Gains But Lags ...</td>\n",
       "      <td>In the latest trading session, JPMorgan Chase ...</td>\n",
       "      <td>https://finance.yahoo.com/news/jpmorgan-chase-...</td>\n",
       "      <td>['ESTIMATE REVISIONS', 'JPMORGAN CHASE &amp; CO', ...</td>\n",
       "      <td>zacks rank</td>\n",
       "      <td>0.995</td>\n",
       "      <td>0.012</td>\n",
       "      <td>0.87</td>\n",
       "      <td>0.119</td>\n",
       "    </tr>\n",
       "    <tr>\n",
       "      <th>2022-08-18T21:45:09+00:00</th>\n",
       "      <td>JPMorgan Chase &amp;amp; Co. (JPM) Stock Sinks As ...</td>\n",
       "      <td>In the latest trading session, JPMorgan Chase ...</td>\n",
       "      <td>https://finance.yahoo.com/news/jpmorgan-chase-...</td>\n",
       "      <td>['ESTIMATE REVISIONS', 'JPMORGAN CHASE &amp; CO', ...</td>\n",
       "      <td>zacks rank</td>\n",
       "      <td>0.995</td>\n",
       "      <td>0.008</td>\n",
       "      <td>0.877</td>\n",
       "      <td>0.115</td>\n",
       "    </tr>\n",
       "    <tr>\n",
       "      <th>2022-08-18T13:00:01+00:00</th>\n",
       "      <td>JPMorgan Chase &amp;amp; Co. (JPM) Is a Trending S...</td>\n",
       "      <td>JPMorgan Chase &amp; Co. (JPM) has recently been o...</td>\n",
       "      <td>https://finance.yahoo.com/news/jpmorgan-chase-...</td>\n",
       "      <td>['CONSENSUS ESTIMATE', 'EARNINGS ESTIMATE', 'E...</td>\n",
       "      <td>zacks rank</td>\n",
       "      <td>0.999</td>\n",
       "      <td>0.006</td>\n",
       "      <td>0.868</td>\n",
       "      <td>0.126</td>\n",
       "    </tr>\n",
       "    <tr>\n",
       "      <th>2022-08-04T13:00:01+00:00</th>\n",
       "      <td>Investors Heavily Search JPMorgan Chase &amp;amp; ...</td>\n",
       "      <td>JPMorgan Chase &amp; Co. (JPM) is one of the stock...</td>\n",
       "      <td>https://finance.yahoo.com/news/investors-heavi...</td>\n",
       "      <td>['CONSENSUS EARNINGS ESTIMATE', 'CONSENSUS EST...</td>\n",
       "      <td>zacks rank</td>\n",
       "      <td>0.999</td>\n",
       "      <td>0.009</td>\n",
       "      <td>0.866</td>\n",
       "      <td>0.125</td>\n",
       "    </tr>\n",
       "  </tbody>\n",
       "</table>\n",
       "<p>804 rows × 9 columns</p>\n",
       "</div>"
      ],
      "text/plain": [
       "                                                                       title  \\\n",
       "date                                                                           \n",
       "2023-03-17T13:05:00+00:00  3 Banks That Played Interest Rates Right and A...   \n",
       "2022-11-08T19:27:52+00:00  10 Best Blue Chip Stocks With Strong Balance S...   \n",
       "2022-09-16T04:07:30+00:00  U.S. SEC's crypto guidelines push up costs for...   \n",
       "2022-09-16T04:01:00+00:00  FOCUS-U.S. SEC's crypto guidelines push up cos...   \n",
       "2022-07-12T10:30:00+00:00  Does JPMorgan Chase Still Have a Fortress Bala...   \n",
       "...                                                                      ...   \n",
       "2022-08-30T21:45:09+00:00  JPMorgan Chase &amp; Co. (JPM) Gains As Market...   \n",
       "2022-08-24T21:45:09+00:00  JPMorgan Chase &amp; Co. (JPM) Gains But Lags ...   \n",
       "2022-08-18T21:45:09+00:00  JPMorgan Chase &amp; Co. (JPM) Stock Sinks As ...   \n",
       "2022-08-18T13:00:01+00:00  JPMorgan Chase &amp; Co. (JPM) Is a Trending S...   \n",
       "2022-08-04T13:00:01+00:00  Investors Heavily Search JPMorgan Chase &amp; ...   \n",
       "\n",
       "                                                                     content  \\\n",
       "date                                                                           \n",
       "2023-03-17T13:05:00+00:00  SVB Financial and Silvergate did not position ...   \n",
       "2022-11-08T19:27:52+00:00  In this article, we will take a look at 10 bes...   \n",
       "2022-09-16T04:07:30+00:00  By Hannah Lang and Michelle Price\\n\\nWASHINGTO...   \n",
       "2022-09-16T04:01:00+00:00  By Hannah Lang and Michelle Price\\n\\nWASHINGTO...   \n",
       "2022-07-12T10:30:00+00:00  JPMorgan Chase (NYSE: JPM), the largest bank i...   \n",
       "...                                                                      ...   \n",
       "2022-08-30T21:45:09+00:00  JPMorgan Chase & Co. (JPM) closed at $114.41 i...   \n",
       "2022-08-24T21:45:09+00:00  In the latest trading session, JPMorgan Chase ...   \n",
       "2022-08-18T21:45:09+00:00  In the latest trading session, JPMorgan Chase ...   \n",
       "2022-08-18T13:00:01+00:00  JPMorgan Chase & Co. (JPM) has recently been o...   \n",
       "2022-08-04T13:00:01+00:00  JPMorgan Chase & Co. (JPM) is one of the stock...   \n",
       "\n",
       "                                                                        link  \\\n",
       "date                                                                           \n",
       "2023-03-17T13:05:00+00:00  https://finance.yahoo.com/m/e84f4c66-90da-38ba...   \n",
       "2022-11-08T19:27:52+00:00  https://finance.yahoo.com/news/10-best-blue-ch...   \n",
       "2022-09-16T04:07:30+00:00  https://finance.yahoo.com/news/u-secs-crypto-g...   \n",
       "2022-09-16T04:01:00+00:00  https://finance.yahoo.com/news/focus-u-secs-cr...   \n",
       "2022-07-12T10:30:00+00:00  https://finance.yahoo.com/m/b203e130-e125-3c11...   \n",
       "...                                                                      ...   \n",
       "2022-08-30T21:45:09+00:00  https://finance.yahoo.com/news/jpmorgan-chase-...   \n",
       "2022-08-24T21:45:09+00:00  https://finance.yahoo.com/news/jpmorgan-chase-...   \n",
       "2022-08-18T21:45:09+00:00  https://finance.yahoo.com/news/jpmorgan-chase-...   \n",
       "2022-08-18T13:00:01+00:00  https://finance.yahoo.com/news/jpmorgan-chase-...   \n",
       "2022-08-04T13:00:01+00:00  https://finance.yahoo.com/news/investors-heavi...   \n",
       "\n",
       "                                                                        tags  \\\n",
       "date                                                                           \n",
       "2023-03-17T13:05:00+00:00  ['BALANCE SHEETS', 'BANK FAILURES', 'BOND PORT...   \n",
       "2022-11-08T19:27:52+00:00  ['BALANCE SHEET', 'BALANCE SHEETS', 'BLACKROCK...   \n",
       "2022-09-16T04:07:30+00:00  ['BALANCE SHEET', 'BANK REGULATORS', 'BNY MELL...   \n",
       "2022-09-16T04:01:00+00:00  ['BALANCE SHEET', 'BANK REGULATORS', 'BNY MELL...   \n",
       "2022-07-12T10:30:00+00:00                ['BALANCE SHEET', 'JPMORGAN CHASE']   \n",
       "...                                                                      ...   \n",
       "2022-08-30T21:45:09+00:00  ['ESTIMATE REVISIONS', 'JPMORGAN CHASE & CO', ...   \n",
       "2022-08-24T21:45:09+00:00  ['ESTIMATE REVISIONS', 'JPMORGAN CHASE & CO', ...   \n",
       "2022-08-18T21:45:09+00:00  ['ESTIMATE REVISIONS', 'JPMORGAN CHASE & CO', ...   \n",
       "2022-08-18T13:00:01+00:00  ['CONSENSUS ESTIMATE', 'EARNINGS ESTIMATE', 'E...   \n",
       "2022-08-04T13:00:01+00:00  ['CONSENSUS EARNINGS ESTIMATE', 'CONSENSUS EST...   \n",
       "\n",
       "                                     tag polarity    neg    neu    pos  \n",
       "date                                                                    \n",
       "2023-03-17T13:05:00+00:00  balance sheet    0.382   0.09  0.733  0.177  \n",
       "2022-11-08T19:27:52+00:00  balance sheet      1.0  0.029  0.798  0.173  \n",
       "2022-09-16T04:07:30+00:00  balance sheet     0.94  0.033  0.913  0.055  \n",
       "2022-09-16T04:01:00+00:00  balance sheet     0.94  0.033  0.913  0.055  \n",
       "2022-07-12T10:30:00+00:00  balance sheet   -0.211  0.061    0.9  0.039  \n",
       "...                                  ...      ...    ...    ...    ...  \n",
       "2022-08-30T21:45:09+00:00     zacks rank    0.987  0.018  0.898  0.084  \n",
       "2022-08-24T21:45:09+00:00     zacks rank    0.995  0.012   0.87  0.119  \n",
       "2022-08-18T21:45:09+00:00     zacks rank    0.995  0.008  0.877  0.115  \n",
       "2022-08-18T13:00:01+00:00     zacks rank    0.999  0.006  0.868  0.126  \n",
       "2022-08-04T13:00:01+00:00     zacks rank    0.999  0.009  0.866  0.125  \n",
       "\n",
       "[804 rows x 9 columns]"
      ]
     },
     "execution_count": 20,
     "metadata": {},
     "output_type": "execute_result"
    }
   ],
   "source": [
    "stocks_news.read('JPM.US').data"
   ]
  },
  {
   "cell_type": "markdown",
   "id": "ccc56fc7-9d31-4d0c-b061-1b144ba0f201",
   "metadata": {
    "tags": []
   },
   "source": [
    "### El contenido de la respuesta"
   ]
  },
  {
   "cell_type": "code",
   "execution_count": 21,
   "id": "a87e3b26-71d5-47c9-bba3-bf9c9180110f",
   "metadata": {
    "tags": []
   },
   "outputs": [
    {
     "data": {
      "text/plain": [
       "VersionedItem(symbol='JPM.US', library='us.stocks.news.stable', data=<class 'pandas.core.frame.DataFrame'>, version=0, metadata=None, host='S3(endpoint=s3.eu-west-1.wasabisys.com, bucket=datalakez)')"
      ]
     },
     "execution_count": 21,
     "metadata": {},
     "output_type": "execute_result"
    }
   ],
   "source": [
    "stocks_news.read('JPM.US')"
   ]
  },
  {
   "cell_type": "code",
   "execution_count": null,
   "id": "9cc57009-0dc7-4873-8f44-99c731609d37",
   "metadata": {},
   "outputs": [],
   "source": []
  }
 ],
 "metadata": {
  "kernelspec": {
   "display_name": "Python 3 (ipykernel)",
   "language": "python",
   "name": "python3"
  },
  "language_info": {
   "codemirror_mode": {
    "name": "ipython",
    "version": 3
   },
   "file_extension": ".py",
   "mimetype": "text/x-python",
   "name": "python",
   "nbconvert_exporter": "python",
   "pygments_lexer": "ipython3",
   "version": "3.10.10"
  }
 },
 "nbformat": 4,
 "nbformat_minor": 5
}
