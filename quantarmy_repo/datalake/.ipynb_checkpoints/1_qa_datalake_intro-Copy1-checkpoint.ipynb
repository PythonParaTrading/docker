{
 "cells": [
  {
   "cell_type": "markdown",
   "id": "2319e292-a611-4d98-9915-bb4b0a97b4b6",
   "metadata": {
    "tags": []
   },
   "source": [
    "# Consultar todas las bases de datos dentro del datalake\n",
    " - Conexion al Datalake mediante .env\n",
    " - Montar puntero\n",
    " - Consultar librerias \n",
    " #### --- jcx@quantarmy.com - quantarmy.com | pythonparatrading.com"
   ]
  },
  {
   "cell_type": "code",
   "execution_count": 1,
   "id": "b4983f6d-ae63-4721-9b8c-5d6712774c0c",
   "metadata": {
    "tags": []
   },
   "outputs": [],
   "source": [
    "from arcticdb import Arctic\n",
    "import pandas as pd\n",
    "from dotenv import load_dotenv\n",
    "from os import getenv"
   ]
  },
  {
   "cell_type": "code",
   "execution_count": 2,
   "id": "c2b05ea8-7eff-4b05-b152-1d4bbb610c3b",
   "metadata": {
    "tags": []
   },
   "outputs": [],
   "source": [
    "dotenv_path = '/root/.env'\n",
    "load_dotenv(dotenv_path)\n",
    "\n",
    "endpoint = getenv(\"ENDPOINT\")\n",
    "db = getenv(\"DB\")\n",
    "access_key = getenv(\"ACCESS_KEY\")\n",
    "secret_key = getenv(\"SECRET_KEY\")\n",
    "\n",
    "ac = Arctic(f's3s://{endpoint}:{db}?access={access_key}&secret={secret_key}')"
   ]
  },
  {
   "cell_type": "markdown",
   "id": "afd0535f-5b3e-425e-b480-31b524f78478",
   "metadata": {},
   "source": [
    "En este caso, vamos a acceder a la liberia donde almacenamos las noticias, y contamos cuantos symbolos existen en la db"
   ]
  },
  {
   "cell_type": "code",
   "execution_count": 8,
   "id": "5ae4b96e-a32a-4ad5-8fe0-17e00f08efa4",
   "metadata": {
    "tags": []
   },
   "outputs": [
    {
     "data": {
      "text/plain": [
       "503"
      ]
     },
     "execution_count": 8,
     "metadata": {},
     "output_type": "execute_result"
    }
   ],
   "source": [
    "len(ac.get_library('us.stocks.news.stable').list_symbols())"
   ]
  },
  {
   "cell_type": "code",
   "execution_count": null,
   "id": "cd554dba-9837-4a8c-b942-62d956cabf1e",
   "metadata": {},
   "outputs": [],
   "source": []
  }
 ],
 "metadata": {
  "kernelspec": {
   "display_name": "Python 3 (ipykernel)",
   "language": "python",
   "name": "python3"
  },
  "language_info": {
   "codemirror_mode": {
    "name": "ipython",
    "version": 3
   },
   "file_extension": ".py",
   "mimetype": "text/x-python",
   "name": "python",
   "nbconvert_exporter": "python",
   "pygments_lexer": "ipython3",
   "version": "3.10.10"
  }
 },
 "nbformat": 4,
 "nbformat_minor": 5
}
